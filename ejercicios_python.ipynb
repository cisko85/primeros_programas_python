# Ejercicios en Python, primeros programas.
## Generador de Geringoso Rústico.Versión 1.0(for, if, else).

'''python
cadena = 'geringoso es una manera de cifrar jugando'
capadepenapa = ''
 
for e in cadena:
        if e in 'aeiouáéíóú':
            capadepenapa += e + "p" + e
        
        else:
            capadepenapa += e
        
print(capadepenapa)
'''


## Generador de Geringoso Rústico.Versión 1.1(for, if, else,input).


'''

cadena= input('A continuación ingrese el texto que desea pasar a geringoso:\n')
capadepenapa = ''
 
for e in cadena:
        if e in 'aeiouáéíóú':
            capadepenapa += e + "p" + e
        
        else:
            capadepenapa += e
        
print(capadepenapa)
'''

