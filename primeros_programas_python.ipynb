{
  "nbformat": 4,
  "nbformat_minor": 0,
  "metadata": {
    "colab": {
      "name": "primeros_programas_python.ipynb",
      "provenance": [],
      "toc_visible": true,
      "authorship_tag": "ABX9TyNTc35a3PEvfg3nWXyADwR5",
      "include_colab_link": true
    },
    "kernelspec": {
      "name": "python3",
      "display_name": "Python 3"
    },
    "language_info": {
      "name": "python"
    }
  },
  "cells": [
    {
      "cell_type": "markdown",
      "metadata": {
        "id": "view-in-github",
        "colab_type": "text"
      },
      "source": [
        "<a href=\"https://colab.research.google.com/github/cisko85/primeros_programas_python/blob/main/primeros_programas_python.ipynb\" target=\"_parent\"><img src=\"https://colab.research.google.com/assets/colab-badge.svg\" alt=\"Open In Colab\"/></a>"
      ]
    },
    {
      "cell_type": "markdown",
      "metadata": {
        "id": "m8R7JhZUmBRE"
      },
      "source": [
        "# Ejercicios en Python, primeros programas.\n"
      ]
    },
    {
      "cell_type": "markdown",
      "metadata": {
        "id": "nu1arRKnnQFn"
      },
      "source": [
        "## Generador de Geringoso Rústico.Versión 1.0(for, if, else). "
      ]
    },
    {
      "cell_type": "code",
      "metadata": {
        "colab": {
          "base_uri": "https://localhost:8080/"
        },
        "id": "HZnnmLB_mdkZ",
        "outputId": "086ad89c-e858-4e67-b337-d5551c5775a0"
      },
      "source": [
        "cadena = 'geringoso es una manera de cifrar jugando'\n",
        "capadepenapa = ''\n",
        "\n",
        "for e in cadena:\n",
        "        if e in 'aeiou':\n",
        "            capadepenapa += e + \"p\" + e\n",
        "        \n",
        "        else:\n",
        "            capadepenapa += e\n",
        "        \n",
        "print(capadepenapa)"
      ],
      "execution_count": null,
      "outputs": [
        {
          "output_type": "stream",
          "text": [
            "geperipingoposopo epes upunapa mapaneperapa depe cipifrapar jupugapandopo\n"
          ],
          "name": "stdout"
        }
      ]
    },
    {
      "cell_type": "markdown",
      "metadata": {
        "id": "tGafMynDnt9W"
      },
      "source": [
        "\n",
        "### Generador de Geringoso Rústico.Versión 1.1(for, if, else,input)."
      ]
    },
    {
      "cell_type": "code",
      "metadata": {
        "colab": {
          "base_uri": "https://localhost:8080/"
        },
        "id": "hdXuVmGJn6il",
        "outputId": "097c6607-2aae-4272-dc3f-8bea008b8a20"
      },
      "source": [
        "cadena= input('A continuación ingrese el texto que desea pasar a geringoso:\\n')\n",
        "capadepenapa = ''\n",
        "\n",
        "for e in cadena:\n",
        "        if e in 'aeiou':\n",
        "            capadepenapa += e + \"p\" + e\n",
        "        \n",
        "        else:\n",
        "            capadepenapa += e\n",
        "        \n",
        "print(capadepenapa)"
      ],
      "execution_count": null,
      "outputs": [
        {
          "output_type": "stream",
          "text": [
            "A continuación ingrese el texto que desea pasar a geringoso:\n",
            "Estoy pasando esto a geringoso 4\n",
            "Estopoy papasapandopo epestopo apa geperipingoposopo 4\n"
          ],
          "name": "stdout"
        }
      ]
    }
  ]
}