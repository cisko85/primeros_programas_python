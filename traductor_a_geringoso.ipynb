{
  "nbformat": 4,
  "nbformat_minor": 0,
  "metadata": {
    "colab": {
      "name": "traductor_a_geringoso.ipynb",
      "provenance": [],
      "authorship_tag": "ABX9TyNkyF5/G5O2/1U+e468YZkH",
      "include_colab_link": true
    },
    "kernelspec": {
      "name": "python3",
      "display_name": "Python 3"
    },
    "language_info": {
      "name": "python"
    }
  },
  "cells": [
    {
      "cell_type": "markdown",
      "metadata": {
        "id": "view-in-github",
        "colab_type": "text"
      },
      "source": [
        "<a href=\"https://colab.research.google.com/github/cisko85/primeros_programas_python/blob/main/traductor_a_geringoso.ipynb\" target=\"_parent\"><img src=\"https://colab.research.google.com/assets/colab-badge.svg\" alt=\"Open In Colab\"/></a>"
      ]
    },
    {
      "cell_type": "markdown",
      "metadata": {
        "id": "m8R7JhZUmBRE"
      },
      "source": [
        "# Ejercicios en Python, primeros programas.\n"
      ]
    },
    {
      "cell_type": "markdown",
      "metadata": {
        "id": "nu1arRKnnQFn"
      },
      "source": [
        "## Generador de Geringoso Rústico.Versión 1.0(for, if, else). "
      ]
    },
    {
      "cell_type": "code",
      "metadata": {
        "colab": {
          "base_uri": "https://localhost:8080/"
        },
        "id": "HZnnmLB_mdkZ",
        "outputId": "3ceb3d9b-dcfd-49a7-cf25-a2e40948b16a"
      },
      "source": [
        "cadena = 'geringoso es una manera de cifrar jugando'\n",
        "capadepenapa = ''\n",
        " \n",
        "for e in cadena:\n",
        "        if e in 'aeiouáéíóú':\n",
        "            capadepenapa += e + \"p\" + e\n",
        "        \n",
        "        else:\n",
        "            capadepenapa += e\n",
        "        \n",
        "print(capadepenapa)"
      ],
      "execution_count": 7,
      "outputs": [
        {
          "output_type": "stream",
          "text": [
            "geperipingoposopo epes upunapa mapaneperapa depe cipifrapar jupugapandopo\n"
          ],
          "name": "stdout"
        }
      ]
    },
    {
      "cell_type": "markdown",
      "metadata": {
        "id": "tGafMynDnt9W"
      },
      "source": [
        "\n",
        "### Generador de Geringoso Rústico.Versión 1.1(for, if, else,input)."
      ]
    },
    {
      "cell_type": "code",
      "metadata": {
        "id": "-ahGvJnLuptC"
      },
      "source": [
        ""
      ],
      "execution_count": null,
      "outputs": []
    },
    {
      "cell_type": "code",
      "metadata": {
        "id": "hdXuVmGJn6il",
        "colab": {
          "base_uri": "https://localhost:8080/"
        },
        "outputId": "d1590cef-c5e2-4505-fd7e-ab199a1fd640"
      },
      "source": [
        "cadena= input('A continuación ingrese el texto que desea pasar a geringoso:\\n')\n",
        "capadepenapa = ''\n",
        " \n",
        "for e in cadena:\n",
        "        if e in 'aeiouáéíóú':\n",
        "            capadepenapa += e + \"p\" + e\n",
        "        \n",
        "        else:\n",
        "            capadepenapa += e\n",
        "        \n",
        "print(capadepenapa)"
      ],
      "execution_count": 8,
      "outputs": [
        {
          "output_type": "stream",
          "text": [
            "A continuación ingrese el texto que desea pasar a geringoso:\n",
            "había una vez truz\n",
            "hapabípíapa upunapa vepez trupuz\n"
          ],
          "name": "stdout"
        }
      ]
    }
  ]
}